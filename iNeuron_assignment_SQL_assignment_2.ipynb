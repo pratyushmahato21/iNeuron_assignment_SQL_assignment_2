{
 "cells": [
  {
   "cell_type": "markdown",
   "id": "822d95f6",
   "metadata": {},
   "source": [
    "Q-1. Write an SQL query to print the first three characters of  FIRST_NAME from Worker table."
   ]
  },
  {
   "cell_type": "markdown",
   "id": "349a1641",
   "metadata": {},
   "source": [
    "SELECT LEFT(first_name,3) FROM Worker;"
   ]
  },
  {
   "cell_type": "markdown",
   "id": "44261b97",
   "metadata": {},
   "source": [
    "Q-2. Write an SQL query to find the position of the alphabet (‘a’) in the first name column ‘Amitabh’ from Worker table."
   ]
  },
  {
   "cell_type": "markdown",
   "id": "b69dc377",
   "metadata": {},
   "source": [
    "SELECT POSITION('a' IN first_name) from worker where first_name = 'amitabh';"
   ]
  },
  {
   "cell_type": "markdown",
   "id": "afeb6e3d",
   "metadata": {},
   "source": [
    "Q-3. Write an SQL query to print the name of employees having the highest salary in each department."
   ]
  },
  {
   "cell_type": "markdown",
   "id": "134b88d1",
   "metadata": {},
   "source": [
    "select first_name, dept, MAX(salary) as highest_salary\n",
    "FROM Worker\n",
    "group by dept \n",
    "order by salary DESC;"
   ]
  },
  {
   "cell_type": "code",
   "execution_count": null,
   "id": "96de33bf",
   "metadata": {},
   "outputs": [],
   "source": []
  }
 ],
 "metadata": {
  "kernelspec": {
   "display_name": "Python 3 (ipykernel)",
   "language": "python",
   "name": "python3"
  },
  "language_info": {
   "codemirror_mode": {
    "name": "ipython",
    "version": 3
   },
   "file_extension": ".py",
   "mimetype": "text/x-python",
   "name": "python",
   "nbconvert_exporter": "python",
   "pygments_lexer": "ipython3",
   "version": "3.8.12"
  }
 },
 "nbformat": 4,
 "nbformat_minor": 5
}
