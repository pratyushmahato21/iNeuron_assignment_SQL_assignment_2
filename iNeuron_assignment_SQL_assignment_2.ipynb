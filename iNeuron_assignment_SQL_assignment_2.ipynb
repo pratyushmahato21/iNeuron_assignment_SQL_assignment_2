{
 "cells": [
  {
   "cell_type": "markdown",
   "id": "3e46d752",
   "metadata": {},
   "source": [
    "Q-1. Write an SQL query to print the first three characters of  FIRST_NAME from Worker table."
   ]
  },
  {
   "cell_type": "markdown",
   "id": "221c3e2a",
   "metadata": {},
   "source": [
    "SELECT LEFT(first_name,3) FROM Worker;"
   ]
  },
  {
   "cell_type": "markdown",
   "id": "ea3d0b8c",
   "metadata": {},
   "source": [
    "Q-2. Write an SQL query to find the position of the alphabet (‘a’) in the first name column ‘Amitabh’ from Worker table."
   ]
  },
  {
   "cell_type": "markdown",
   "id": "df986cad",
   "metadata": {},
   "source": [
    "SELECT CHARINDEX('a','amitabh') from Worker;"
   ]
  },
  {
   "cell_type": "markdown",
   "id": "826fc77e",
   "metadata": {},
   "source": [
    "Q-3. Write an SQL query to print the name of employees having the highest salary in each department."
   ]
  },
  {
   "cell_type": "markdown",
   "id": "a25a4aef",
   "metadata": {},
   "source": [
    "select first_name, dept, MAX(salary) as highest_salary\n",
    "FROM Worker\n",
    "group by dept \n",
    "order by salary DESC;"
   ]
  },
  {
   "cell_type": "code",
   "execution_count": null,
   "id": "9d715f7f",
   "metadata": {},
   "outputs": [],
   "source": []
  }
 ],
 "metadata": {
  "kernelspec": {
   "display_name": "Python 3 (ipykernel)",
   "language": "python",
   "name": "python3"
  },
  "language_info": {
   "codemirror_mode": {
    "name": "ipython",
    "version": 3
   },
   "file_extension": ".py",
   "mimetype": "text/x-python",
   "name": "python",
   "nbconvert_exporter": "python",
   "pygments_lexer": "ipython3",
   "version": "3.8.12"
  }
 },
 "nbformat": 4,
 "nbformat_minor": 5
}
